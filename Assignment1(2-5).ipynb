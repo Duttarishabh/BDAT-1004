{
 "cells": [
  {
   "cell_type": "markdown",
   "id": "2f987d86",
   "metadata": {},
   "source": [
    "<h2>Assignment OF Data programing (BDAT 1004)</h2><br>\n",
    "<h3>Quest 2-5</h3>\n",
    "<h3>NAME : Rishabh Dutta</h3><br>\n",
    "<h3>STUDENT ID : 200553104</h3><br>\n",
    "<h3>Assignment of data programing : PROBLEM SET SUBMISSON</h3><br>\n"
   ]
  },
  {
   "cell_type": "markdown",
   "id": "9021545e",
   "metadata": {},
   "source": [
    "<h2>Quest 2 </h2>\n",
    "<h4>##Write (and evaluate) C# file that answer these questions:</h4>\n",
    "<h4>a. How many letters are there in 'Supercalifragilisticexpialidocious'?</h4>\n",
    "\n",
    "<hr>b. Does 'Supercalifragilisticexpialidocious' contain 'ice' as a substring?</h4>\n",
    "\n",
    "<hr>c. Which of the following words is the longest:\n",
    "Supercalifragilisticexpialidocious, Honorificabilitudinitatibus, or\n",
    "Bababadalgharaghtakamminarronnkonn?</h4>\n",
    "\n",
    "<hr>d. Which composer comes first in the dictionary: 'Berlioz', 'Borodin', 'Brian',\n",
    "    'Bartok', 'Bellini', 'Buxtehude', 'Bernstein'. Which one comes last?</h4>\n"
   ]
  },
  {
   "cell_type": "code",
   "execution_count": 86,
   "id": "5add7bb7",
   "metadata": {},
   "outputs": [
    {
     "name": "stdout",
     "output_type": "stream",
     "text": [
      "Number of letters: 34\r\n"
     ]
    }
   ],
   "source": [
    "string word = \"Supercalifragilisticexpialidocious\"; \n",
    "int characterCount = word.Length;\n",
    "Console.WriteLine(\"Number of letters: \" + characterCount);"
   ]
  },
  {
   "cell_type": "code",
   "execution_count": 2,
   "id": "72dff866",
   "metadata": {},
   "outputs": [
    {
     "name": "stdout",
     "output_type": "stream",
     "text": [
      "Contains 'ice' as a substring: True\r\n"
     ]
    }
   ],
   "source": [
    "string word = \"Supercalifragilisticexpialidocious\"; \n",
    "bool containsSubstring = word.Contains(\"ice\");\n",
    "Console.WriteLine(\"Contains 'ice' as a substring: \" + containsSubstring);\n"
   ]
  },
  {
   "cell_type": "code",
   "execution_count": 3,
   "id": "a10e4587",
   "metadata": {},
   "outputs": [
    {
     "name": "stdout",
     "output_type": "stream",
     "text": [
      "Longest word: Supercalifragilisticexpialidocious\r\n"
     ]
    }
   ],
   "source": [
    "string word1 = \"Supercalifragilisticexpialidocious\";\n",
    "string word2 = \"Honorificabilitudinitatibus\";\n",
    "string word3 = \"Bababadalgharaghtakamminarronnkonn\"; string longestWord = \"\";\n",
    "if (word1.Length >= word2.Length && word1.Length >= word3.Length)\n",
    "{\n",
    "longestWord = word1;\n",
    "}\n",
    "else if (word2.Length >= word1.Length && word2.Length >= word3.Length)\n",
    "{\n",
    "longestWord = word2;\n",
    "}\n",
    "else\n",
    "{\n",
    "longestWord = word3;\n",
    "}\n",
    "Console.WriteLine(\"Longest word: \" + longestWord);\n"
   ]
  },
  {
   "cell_type": "code",
   "execution_count": 4,
   "id": "48011a07",
   "metadata": {},
   "outputs": [
    {
     "name": "stdout",
     "output_type": "stream",
     "text": [
      "First composer: Bartok\n",
      "Last composer: Buxtehude\n"
     ]
    }
   ],
   "source": [
    "string[] composers = { \"Berlioz\", \"Borodin\", \"Brian\", \"Bartok\", \"Bellini\", \"Buxtehude\", \"Bernstein\"};\n",
    "Array.Sort(composers);\n",
    "string firstComposer = composers[0];\n",
    "string lastComposer = composers[composers.Length - 1]; Console.WriteLine(\"First composer: \" + firstComposer); Console.WriteLine(\"Last composer: \" + lastComposer);\n"
   ]
  },
  {
   "cell_type": "markdown",
   "id": "0e8f0911",
   "metadata": {},
   "source": [
    "<h2>Quest.3 Implement function to find area of triangle</h2>"
   ]
  },
  {
   "cell_type": "code",
   "execution_count": 91,
   "id": "7b96c794",
   "metadata": {},
   "outputs": [
    {
     "name": "stdout",
     "output_type": "stream",
     "text": [
      "15.588457268119896\r\n"
     ]
    }
   ],
   "source": [
    "public static double TriangleArea(double a, double b, double c)\n",
    "{\n",
    "double x = (a + b + c) / 2;\n",
    "double area = Math.Sqrt(x * (x - a) * (x - b) * (x - c));\n",
    "return area;\n",
    "}\n",
    "\n",
    "double area = TriangleArea(6, 6, 6);\n",
    "Console.WriteLine(area);\n",
    "\n"
   ]
  },
  {
   "cell_type": "markdown",
   "id": "7993e9d1",
   "metadata": {},
   "source": [
    "<h2> Quest 4. C# program to seprate odd and even numbers</h2>"
   ]
  },
  {
   "cell_type": "code",
   "execution_count": 84,
   "id": "31ad5785",
   "metadata": {},
   "outputs": [
    {
     "name": "stdout",
     "output_type": "stream",
     "text": [
      "Even Numbers:\n",
      "10 30 50 70 90 \n",
      "Odd Numbers:\n",
      "21 41 61 81 101 "
     ]
    }
   ],
   "source": [
    "int[] numbers = { 10, 21, 30, 41, 50, 61, 70, 81, 90, 101 }; #numbers\n",
    "        int[] evNumbers = new int[numbers.Length];\n",
    "        int[] odNumbers = new int[numbers.Length];\n",
    "        \n",
    "        int eCount = 0; #initializing count of even\n",
    "        int oCount = 0;#initializing count of odd\n",
    "        \n",
    "        foreach (int number in numbers)\n",
    "        {\n",
    "            if (number % 2 == 0)  ##checking the even number\n",
    "            {\n",
    "                evNumbers[eCount] = number;\n",
    "                eCount++;\n",
    "            }\n",
    "            else\n",
    "            {\n",
    "                oddNumbers[oCount] = number;\n",
    "                oCount++;\n",
    "            }\n",
    "        }\n",
    "        \n",
    "        Console.WriteLine(\"Even Numbers:\");\n",
    "        for (int i = 0; i < eCount; i++)\n",
    "        {\n",
    "            Console.Write(evNumbers[i] + \" \");\n",
    "        }\n",
    "        \n",
    "        Console.WriteLine(\"\\nOdd Numbers:\");\n",
    "        for (int i = 0; i < oCount; i++)\n",
    "        {\n",
    "            Console.Write(odNumbers[i] + \" \");\n",
    "        }\n"
   ]
  },
  {
   "cell_type": "markdown",
   "id": "4a7c93fa",
   "metadata": {},
   "source": [
    "<h2>Quest 5.</h2><br>\n",
    ". Write a function inside(x,y,x1,y1,x2,y2) that returns True or False dependingonwhetherthepoint(x,y)lies in the rectangle with lower left corner (x1,y1) and upper right corner (x2,y2).\n",
    "\n",
    "inside(1,1,0,0,2,3)\n",
    "\n",
    "True\n",
    "\n",
    "inside(-1,-1,0,0,2,3)\n",
    "\n",
    "False\n",
    "\n",
    "b. Use function inside()from part a. to write an expression that tests whether the point (1,1) lies in both of the following rectangles: one with lower left corner (0.3, 0.5) and upper right corner (1.1, 0.7) and the other with lower left corner (0.5, 0.2) and upper right corner (1.1, 2)."
   ]
  },
  {
   "cell_type": "code",
   "execution_count": 92,
   "id": "29ba38c3",
   "metadata": {},
   "outputs": [
    {
     "name": "stdout",
     "output_type": "stream",
     "text": [
      "inside : True\n",
      "inside: False\n"
     ]
    }
   ],
   "source": [
    "bool Inside = inside(1, 1, 0, 0, 2, 3);\n",
    "Console.WriteLine(\"inside : \" + Inside);\n",
    "bool InsideBothRectangles = inside(1, 1, 0.8, 0.9, 1.1, 0.5) && inside(1, 1, 0.9, 0.1, 1.4, 2);\n",
    "Console.WriteLine(\"inside: \" + InsideBothRectangles);\n",
    "   public static bool inside(double x, double y, double x1, double y1, double x2, double y2)\n",
    "   {\n",
    "       bool Inside = (x >= x1 && x <= x2) && (y >= y1 && y <= y2);\n",
    "       return Inside;\n",
    "   }\n"
   ]
  },
  {
   "cell_type": "code",
   "execution_count": null,
   "id": "21a1497b",
   "metadata": {},
   "outputs": [],
   "source": []
  }
 ],
 "metadata": {
  "kernelspec": {
   "display_name": ".NET (C#)",
   "language": "C#",
   "name": ".net-csharp"
  },
  "language_info": {
   "file_extension": ".cs",
   "mimetype": "text/x-csharp",
   "name": "C#",
   "pygments_lexer": "csharp",
   "version": "11.0"
  }
 },
 "nbformat": 4,
 "nbformat_minor": 5
}
