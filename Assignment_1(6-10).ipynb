{
 "cells": [
  {
   "cell_type": "markdown",
   "id": "4ee99590",
   "metadata": {},
   "source": [
    "<h1>Assignment OF Data programing (BDAT 1004)</h1>\n",
    "<h3>Quest 6-10</h3>\n",
    "<h3>NAME : Rishabh Dutta </h3>\n",
    "<h3>STUDENT ID : 200553104</h3> <br>\n",
    "<h3>EMAIL : 200553104@student.georgianc.on.ca</h3><br>\n",
    "<h3>Assignment of data programing : PROBLEM SET SUBMISSON</h3><br>\n",
    "\n"
   ]
  },
  {
   "cell_type": "markdown",
   "id": "5aceefe8",
   "metadata": {},
   "source": [
    "<h1>Question1. \n",
    "What data type is each of the following?</h1>\n"
   ]
  },
  {
   "cell_type": "code",
   "execution_count": 5,
   "id": "f592751a",
   "metadata": {},
   "outputs": [
    {
     "name": "stdout",
     "output_type": "stream",
     "text": [
      "5 is of type <class 'int'>\n"
     ]
    }
   ],
   "source": [
    "num = 5\n",
    "print(num, 'is of type', type(num))"
   ]
  },
  {
   "cell_type": "code",
   "execution_count": 6,
   "id": "2d27813a",
   "metadata": {},
   "outputs": [
    {
     "name": "stdout",
     "output_type": "stream",
     "text": [
      "5.0 is of type <class 'float'>\n"
     ]
    }
   ],
   "source": [
    "num = 5.0\n",
    "print(num, 'is of type', type(num))"
   ]
  },
  {
   "cell_type": "code",
   "execution_count": 7,
   "id": "d367e886",
   "metadata": {},
   "outputs": [
    {
     "name": "stdout",
     "output_type": "stream",
     "text": [
      "True is of type <class 'bool'>\n"
     ]
    }
   ],
   "source": [
    "num = 5>1\n",
    "print(num, 'is of type', type(num))"
   ]
  },
  {
   "cell_type": "code",
   "execution_count": 8,
   "id": "8e848133",
   "metadata": {},
   "outputs": [
    {
     "name": "stdout",
     "output_type": "stream",
     "text": [
      "5 is of type <class 'str'>\n"
     ]
    }
   ],
   "source": [
    "num='5'\n",
    "print(num, 'is of type', type(num))"
   ]
  },
  {
   "cell_type": "code",
   "execution_count": 9,
   "id": "08817696",
   "metadata": {},
   "outputs": [
    {
     "name": "stdout",
     "output_type": "stream",
     "text": [
      "10 is of type <class 'int'>\n"
     ]
    }
   ],
   "source": [
    "num = 5*2\n",
    "print(num, 'is of type', type(num))"
   ]
  },
  {
   "cell_type": "code",
   "execution_count": 10,
   "id": "a8890651",
   "metadata": {},
   "outputs": [
    {
     "name": "stdout",
     "output_type": "stream",
     "text": [
      "55 is of type <class 'str'>\n"
     ]
    }
   ],
   "source": [
    "num = '5' * 2\n",
    "print(num, 'is of type', type(num))"
   ]
  },
  {
   "cell_type": "code",
   "execution_count": 12,
   "id": "415a42e0",
   "metadata": {},
   "outputs": [
    {
     "name": "stdout",
     "output_type": "stream",
     "text": [
      "52 is of type <class 'str'>\n"
     ]
    }
   ],
   "source": [
    "num = '5' + '2'\n",
    "print(num, 'is of type', type(num))"
   ]
  },
  {
   "cell_type": "code",
   "execution_count": 13,
   "id": "88ea0957",
   "metadata": {},
   "outputs": [
    {
     "name": "stdout",
     "output_type": "stream",
     "text": [
      "2.5 is of type <class 'float'>\n"
     ]
    }
   ],
   "source": [
    "num = 5/2\n",
    "print(num, 'is of type', type(num))"
   ]
  },
  {
   "cell_type": "code",
   "execution_count": 14,
   "id": "528a400b",
   "metadata": {},
   "outputs": [
    {
     "name": "stdout",
     "output_type": "stream",
     "text": [
      "1 is of type <class 'int'>\n"
     ]
    }
   ],
   "source": [
    "num = 5 % 2\n",
    "print(num, 'is of type', type(num))"
   ]
  },
  {
   "cell_type": "code",
   "execution_count": 15,
   "id": "8cf43712",
   "metadata": {},
   "outputs": [
    {
     "name": "stdout",
     "output_type": "stream",
     "text": [
      "{1, 2, 3} is of type <class 'set'>\n"
     ]
    }
   ],
   "source": [
    "num= {1,2,3}\n",
    "print(num, 'is of type', type(num))"
   ]
  },
  {
   "cell_type": "code",
   "execution_count": 16,
   "id": "55174d63",
   "metadata": {},
   "outputs": [
    {
     "name": "stdout",
     "output_type": "stream",
     "text": [
      "False is of type <class 'bool'>\n"
     ]
    }
   ],
   "source": [
    "num = 5==3\n",
    "print(num, 'is of type', type(num))"
   ]
  },
  {
   "cell_type": "code",
   "execution_count": 19,
   "id": "1637910a",
   "metadata": {},
   "outputs": [
    {
     "name": "stdout",
     "output_type": "stream",
     "text": [
      "3.141592653589793\n"
     ]
    }
   ],
   "source": [
    "import math\n",
    "print(math.pi)"
   ]
  },
  {
   "cell_type": "markdown",
   "id": "a2d4caf9",
   "metadata": {},
   "source": [
    "<h1>Question 6. A fucntion to convert it into pig-Latin</h1>"
   ]
  },
  {
   "cell_type": "code",
   "execution_count": 96,
   "id": "4999eb7e",
   "metadata": {},
   "outputs": [],
   "source": [
    "def pig(input):\n",
    "    vowels = ['a', 'e', 'i', 'o', 'u']\n",
    "    input = word.lower()  # Convert the word to lowercase\n",
    "\n",
    "    if word[0] in vowels:   # If the word starts with a vowel\n",
    "        return word + 'way'\n",
    "    else:                    # If the word starts with a consonant\n",
    "        return word[1:] + word[0] + 'ay'\n",
    "    "
   ]
  },
  {
   "cell_type": "code",
   "execution_count": 97,
   "id": "85547519",
   "metadata": {},
   "outputs": [
    {
     "name": "stdout",
     "output_type": "stream",
     "text": [
      "Enter a word: enter\n",
      "Pig Latin form: enterway\n"
     ]
    }
   ],
   "source": [
    "word = input(\"Enter a word: \")\n",
    "pig_latin = pig(word)\n",
    "print(\"Pig Latin form:\", pig_latin)"
   ]
  },
  {
   "cell_type": "markdown",
   "id": "8de24a05",
   "metadata": {},
   "source": [
    "#<h1>Question 7</h1>\n",
    "File bloodtype1.txt records blood-types of patients (A, B, AB, O or OO) at a clinic. Write a function bldcount() that reads the file with name name and reports (i.e., prints) how many patients there are in each bloodtype."
   ]
  },
  {
   "cell_type": "code",
   "execution_count": 104,
   "id": "38d0e342",
   "metadata": {},
   "outputs": [
    {
     "name": "stdout",
     "output_type": "stream",
     "text": [
      "blood_type.txt\n"
     ]
    }
   ],
   "source": [
    "def bloodcount():\n",
    "    fp = open(\"blood_type.txt\")  #reading the file\n",
    "    bldtypes = {'A': 0, 'B': 0, 'AB': 0, 'O': 0, 'OO': 0} #types of sample blood\n",
    "    count = {}\n",
    "    for bldtype in bldtypes:\n",
    "        count[btype] = 0\n",
    "        filein = open(blood_type.txt,'r') #open file in read mode\n",
    "        list_of_types = filein.readline().split()\n",
    "        filein.close()    #closing the file\n",
    "        for bldtype in list_of_types:\n",
    "            count[bldtype] += 1\n",
    "        for bldtype in bldtypes:\n",
    "                if count[bldtype]==1:\n",
    "                    print('There are ' + str(count[bldtype]) + ' patients of blood type ' + bldtype)\n",
    "                if count[btype]>1:\n",
    "                        print('There are ' + str(count[bldtype]) + ' patients of blood type ' + bldtype)\n",
    "                        \n",
    "\n",
    "print(filename)\n",
    "                      \n",
    "\n",
    "\n"
   ]
  },
  {
   "cell_type": "markdown",
   "id": "f38d9308",
   "metadata": {},
   "source": [
    "<h1>Question 8. Writing a function to calculate the currencies</h1>"
   ]
  },
  {
   "cell_type": "code",
   "execution_count": 102,
   "id": "3a7e5ae9",
   "metadata": {},
   "outputs": [],
   "source": [
    "def curconv(currency, amount):\n",
    "    fp = open(\"currencies.txt\")\n",
    "    for line in fp.readlines():\n",
    "        cols = line.strip().split()\n",
    "        (cur_type, rate, cur_name) = (cols[0], float(cols[1]), ' '.join(cols))\n",
    "        if(cur_type == currency): \n",
    "            break\n",
    "            fp.close()\n",
    "            return rate * amount\n",
    "        print(curconv(\"EUR\", 100))\n",
    "        print(curconv(\"JPY\", 100))\n"
   ]
  },
  {
   "cell_type": "markdown",
   "id": "340b4d55",
   "metadata": {},
   "source": [
    "<h2>Question-9  Identify what type of exception each will cause</h2>\n",
    "1. Trying to add incompatible variables, as in\n",
    "adding 6 + ‘a’<br>\n",
    "2. Referring to the 12th item of a list that has only 10\n",
    "items<br>\n",
    "3. Using a value that is out ofrange for a function’s\n",
    "input, such as calling math.sqrt(-1.0)<br>\n",
    "4. Using an undeclared variable, such as print(x)\n",
    "when x has not been defined<br>\n",
    "5. Trying to open a file that does not exist, such as\n",
    "mistyping the file name or looking in the wrong\n",
    "directory<br>\n"
   ]
  },
  {
   "cell_type": "code",
   "execution_count": 78,
   "id": "b6551da1",
   "metadata": {},
   "outputs": [
    {
     "ename": "TypeError",
     "evalue": "unsupported operand type(s) for +: 'int' and 'str'",
     "output_type": "error",
     "traceback": [
      "\u001b[1;31m---------------------------------------------------------------------------\u001b[0m",
      "\u001b[1;31mTypeError\u001b[0m                                 Traceback (most recent call last)",
      "Cell \u001b[1;32mIn[78], line 1\u001b[0m\n\u001b[1;32m----> 1\u001b[0m \u001b[38;5;28mprint\u001b[39m(\u001b[38;5;241;43m6\u001b[39;49m\u001b[43m \u001b[49m\u001b[38;5;241;43m+\u001b[39;49m\u001b[43m \u001b[49m\u001b[38;5;124;43m'\u001b[39;49m\u001b[38;5;124;43ma\u001b[39;49m\u001b[38;5;124;43m'\u001b[39;49m)\n",
      "\u001b[1;31mTypeError\u001b[0m: unsupported operand type(s) for +: 'int' and 'str'"
     ]
    }
   ],
   "source": [
    "print(6 + 'a')"
   ]
  },
  {
   "cell_type": "code",
   "execution_count": 81,
   "id": "f8d5cd1c",
   "metadata": {},
   "outputs": [
    {
     "ename": "IndexError",
     "evalue": "list index out of range",
     "output_type": "error",
     "traceback": [
      "\u001b[1;31m---------------------------------------------------------------------------\u001b[0m",
      "\u001b[1;31mIndexError\u001b[0m                                Traceback (most recent call last)",
      "Cell \u001b[1;32mIn[81], line 2\u001b[0m\n\u001b[0;32m      1\u001b[0m \u001b[38;5;28mlist\u001b[39m \u001b[38;5;241m=\u001b[39m [\u001b[38;5;241m1\u001b[39m,\u001b[38;5;241m2\u001b[39m,\u001b[38;5;241m3\u001b[39m,\u001b[38;5;241m4\u001b[39m,\u001b[38;5;241m5\u001b[39m,\u001b[38;5;241m6\u001b[39m,\u001b[38;5;241m7\u001b[39m,\u001b[38;5;241m8\u001b[39m,\u001b[38;5;241m9\u001b[39m,\u001b[38;5;241m10\u001b[39m]\n\u001b[1;32m----> 2\u001b[0m \u001b[38;5;28;43mlist\u001b[39;49m\u001b[43m[\u001b[49m\u001b[38;5;241;43m12\u001b[39;49m\u001b[43m]\u001b[49m\n\u001b[0;32m      3\u001b[0m \u001b[38;5;28mprint\u001b[39m(\u001b[38;5;28mlist\u001b[39m)\n",
      "\u001b[1;31mIndexError\u001b[0m: list index out of range"
     ]
    }
   ],
   "source": [
    "list = [1,2,3,4,5,6,7,8,9,10]\n",
    "list[12]\n",
    "print(list)"
   ]
  },
  {
   "cell_type": "code",
   "execution_count": 82,
   "id": "f177f015",
   "metadata": {},
   "outputs": [
    {
     "ename": "ValueError",
     "evalue": "math domain error",
     "output_type": "error",
     "traceback": [
      "\u001b[1;31m---------------------------------------------------------------------------\u001b[0m",
      "\u001b[1;31mValueError\u001b[0m                                Traceback (most recent call last)",
      "Cell \u001b[1;32mIn[82], line 2\u001b[0m\n\u001b[0;32m      1\u001b[0m \u001b[38;5;28;01mimport\u001b[39;00m \u001b[38;5;21;01mmath\u001b[39;00m\n\u001b[1;32m----> 2\u001b[0m \u001b[43mmath\u001b[49m\u001b[38;5;241;43m.\u001b[39;49m\u001b[43msqrt\u001b[49m\u001b[43m(\u001b[49m\u001b[38;5;241;43m-\u001b[39;49m\u001b[38;5;241;43m1.0\u001b[39;49m\u001b[43m)\u001b[49m\n",
      "\u001b[1;31mValueError\u001b[0m: math domain error"
     ]
    }
   ],
   "source": [
    "import math\n",
    "math.sqrt(-1.0)"
   ]
  },
  {
   "cell_type": "code",
   "execution_count": 83,
   "id": "8e97097d",
   "metadata": {},
   "outputs": [
    {
     "ename": "NameError",
     "evalue": "name 'x' is not defined",
     "output_type": "error",
     "traceback": [
      "\u001b[1;31m---------------------------------------------------------------------------\u001b[0m",
      "\u001b[1;31mNameError\u001b[0m                                 Traceback (most recent call last)",
      "Cell \u001b[1;32mIn[83], line 1\u001b[0m\n\u001b[1;32m----> 1\u001b[0m \u001b[38;5;28mprint\u001b[39m(\u001b[43mx\u001b[49m)\n",
      "\u001b[1;31mNameError\u001b[0m: name 'x' is not defined"
     ]
    }
   ],
   "source": [
    "print(x)"
   ]
  },
  {
   "cell_type": "code",
   "execution_count": 84,
   "id": "9f646fe8",
   "metadata": {},
   "outputs": [
    {
     "ename": "FileNotFoundError",
     "evalue": "[Errno 2] No such file or directory: 'serchDataa.txt'",
     "output_type": "error",
     "traceback": [
      "\u001b[1;31m---------------------------------------------------------------------------\u001b[0m",
      "\u001b[1;31mFileNotFoundError\u001b[0m                         Traceback (most recent call last)",
      "Cell \u001b[1;32mIn[84], line 1\u001b[0m\n\u001b[1;32m----> 1\u001b[0m f \u001b[38;5;241m=\u001b[39m \u001b[38;5;28;43mopen\u001b[39;49m\u001b[43m(\u001b[49m\u001b[38;5;124;43m\"\u001b[39;49m\u001b[38;5;124;43mserchDataa.txt\u001b[39;49m\u001b[38;5;124;43m\"\u001b[39;49m\u001b[43m)\u001b[49m\n",
      "File \u001b[1;32m~\\anaconda3\\lib\\site-packages\\IPython\\core\\interactiveshell.py:282\u001b[0m, in \u001b[0;36m_modified_open\u001b[1;34m(file, *args, **kwargs)\u001b[0m\n\u001b[0;32m    275\u001b[0m \u001b[38;5;28;01mif\u001b[39;00m file \u001b[38;5;129;01min\u001b[39;00m {\u001b[38;5;241m0\u001b[39m, \u001b[38;5;241m1\u001b[39m, \u001b[38;5;241m2\u001b[39m}:\n\u001b[0;32m    276\u001b[0m     \u001b[38;5;28;01mraise\u001b[39;00m \u001b[38;5;167;01mValueError\u001b[39;00m(\n\u001b[0;32m    277\u001b[0m         \u001b[38;5;124mf\u001b[39m\u001b[38;5;124m\"\u001b[39m\u001b[38;5;124mIPython won\u001b[39m\u001b[38;5;124m'\u001b[39m\u001b[38;5;124mt let you open fd=\u001b[39m\u001b[38;5;132;01m{\u001b[39;00mfile\u001b[38;5;132;01m}\u001b[39;00m\u001b[38;5;124m by default \u001b[39m\u001b[38;5;124m\"\u001b[39m\n\u001b[0;32m    278\u001b[0m         \u001b[38;5;124m\"\u001b[39m\u001b[38;5;124mas it is likely to crash IPython. If you know what you are doing, \u001b[39m\u001b[38;5;124m\"\u001b[39m\n\u001b[0;32m    279\u001b[0m         \u001b[38;5;124m\"\u001b[39m\u001b[38;5;124myou can use builtins\u001b[39m\u001b[38;5;124m'\u001b[39m\u001b[38;5;124m open.\u001b[39m\u001b[38;5;124m\"\u001b[39m\n\u001b[0;32m    280\u001b[0m     )\n\u001b[1;32m--> 282\u001b[0m \u001b[38;5;28;01mreturn\u001b[39;00m io_open(file, \u001b[38;5;241m*\u001b[39margs, \u001b[38;5;241m*\u001b[39m\u001b[38;5;241m*\u001b[39mkwargs)\n",
      "\u001b[1;31mFileNotFoundError\u001b[0m: [Errno 2] No such file or directory: 'serchDataa.txt'"
     ]
    }
   ],
   "source": [
    "f = open(\"serchDataa.txt\") "
   ]
  },
  {
   "cell_type": "markdown",
   "id": "1784a0e3",
   "metadata": {},
   "source": [
    "<h1>Quest. 10 Encryption</h1>"
   ]
  },
  {
   "cell_type": "code",
   "execution_count": 106,
   "id": "bbb4d6f3",
   "metadata": {},
   "outputs": [
    {
     "data": {
      "text/plain": [
       "[1, 1, 1, 3, 5, 1, 1, 2, 1, 0, 1, 0, 1, 2, 4, 0, 1, 2, 0, 3, 1, 0, 1, 1, 0, 0]"
      ]
     },
     "execution_count": 106,
     "metadata": {},
     "output_type": "execute_result"
    }
   ],
   "source": [
    "def frequencies(txt):\n",
    "    characters = 'abcdefghijklmnopqrstuvwxyz'\n",
    "    txt = txt.lower() \n",
    "    frequency_list = [0] * len(characters) \n",
    "\n",
    "    for char in txt:\n",
    "        if char in characters:\n",
    "            index = characters.index(char)  \n",
    "            frequency_list[index] += 1  \n",
    "\n",
    "    return frequency_list\n",
    "\n",
    "\n",
    "frequencies('The quick red fox got bored and went home.')\n"
   ]
  },
  {
   "cell_type": "code",
   "execution_count": null,
   "id": "1023e9f8",
   "metadata": {},
   "outputs": [],
   "source": []
  }
 ],
 "metadata": {
  "kernelspec": {
   "display_name": "Python 3 (ipykernel)",
   "language": "python",
   "name": "python3"
  },
  "language_info": {
   "codemirror_mode": {
    "name": "ipython",
    "version": 3
   },
   "file_extension": ".py",
   "mimetype": "text/x-python",
   "name": "python",
   "nbconvert_exporter": "python",
   "pygments_lexer": "ipython3",
   "version": "3.10.9"
  }
 },
 "nbformat": 4,
 "nbformat_minor": 5
}
